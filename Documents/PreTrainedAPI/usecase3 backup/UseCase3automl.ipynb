{
 "cells": [
  {
   "cell_type": "code",
   "execution_count": null,
   "id": "81d10d4e-06fe-49bc-8159-3c563cb02f3b",
   "metadata": {},
   "outputs": [],
   "source": [
    "# To create the dataset and to import the images to the dataset"
   ]
  },
  {
   "cell_type": "code",
   "execution_count": null,
   "id": "6a1f3ca1-f14e-477a-82fe-ba747a4dcdd4",
   "metadata": {},
   "outputs": [],
   "source": [
    "#pip install google-cloud-automl"
   ]
  },
  {
   "cell_type": "code",
   "execution_count": null,
   "id": "1ca2c6f5-3ca3-4156-b50d-d3ce05649006",
   "metadata": {},
   "outputs": [],
   "source": [
    "#!pip install google-cloud-automl==2.5.2"
   ]
  },
  {
   "cell_type": "code",
   "execution_count": 7,
   "id": "fa610795-8b9b-4e22-9e97-8b8196ccf7e2",
   "metadata": {},
   "outputs": [],
   "source": [
    "#pip freeze > requirements.txt"
   ]
  },
  {
   "cell_type": "code",
   "execution_count": 1,
   "id": "7ced288d-768b-4e24-8e3a-80ec05ee5553",
   "metadata": {},
   "outputs": [],
   "source": [
    "from google.cloud import automl\n",
    "#from google.cloud import automl_v1beta1 as automl"
   ]
  },
  {
   "cell_type": "code",
   "execution_count": 2,
   "id": "f2d26533-8c2f-4e0b-b319-cb70d06e3d3e",
   "metadata": {},
   "outputs": [],
   "source": [
    "project_id = \"gebu-data-ml-day0-01-333910\"\n",
    "display_name = \"usecase3\"\n",
    "client = automl.AutoMlClient()"
   ]
  },
  {
   "cell_type": "code",
   "execution_count": 3,
   "id": "ea82a821-67bf-4bed-9e3c-f3f1884c2de2",
   "metadata": {},
   "outputs": [
    {
     "name": "stdout",
     "output_type": "stream",
     "text": [
      "Dataset name: projects/289649376723/locations/us-central1/datasets/ICN9208678713216991232\n",
      "Dataset id: ICN9208678713216991232\n"
     ]
    }
   ],
   "source": [
    "# To create the empty dataset for holding the training data\n",
    "\n",
    "# To identify the GCP location \n",
    "project_location = f\"projects/gebu-data-ml-day0-01-333910/locations/us-central1\"\n",
    "\n",
    "metadata = automl.ImageClassificationDatasetMetadata(\n",
    "    classification_type=automl.ClassificationType.MULTICLASS)\n",
    "\n",
    "dataset = automl.Dataset(display_name=display_name,\n",
    "    image_classification_dataset_metadata=metadata,)\n",
    "\n",
    "# To create dataset with the dataset in the region\n",
    "response = client.create_dataset(parent = project_location, dataset = dataset, timeout = 300)\n",
    "\n",
    "created_dataset = response.result()\n",
    "\n",
    "print(\"Dataset name: {}\".format(created_dataset.name))\n",
    "print(\"Dataset id: {}\".format(created_dataset.name.split(\"/\")[-1]))\n",
    "\n",
    "Dataset_id1= created_dataset.name.split(\"/\")[-1]\n",
    "\n"
   ]
  },
  {
   "cell_type": "code",
   "execution_count": 4,
   "id": "d1b054af-dbbf-480f-8575-eb663448a12d",
   "metadata": {},
   "outputs": [
    {
     "name": "stdout",
     "output_type": "stream",
     "text": [
      "ICN9208678713216991232\n"
     ]
    }
   ],
   "source": [
    "print(Dataset_id1)"
   ]
  },
  {
   "cell_type": "code",
   "execution_count": 5,
   "id": "204f187e-673c-45d1-bcf4-fa742e0f3c00",
   "metadata": {},
   "outputs": [
    {
     "name": "stdout",
     "output_type": "stream",
     "text": [
      "Processing import...\n",
      "\n"
     ]
    }
   ],
   "source": [
    "# To load the data into the newly created dataset\n",
    "\n",
    "project_id = \"gebu-data-ml-day0-01-333910\"\n",
    "\n",
    "dataset_id = Dataset_id1\n",
    "path = \"gs://usecase3-vcm/AutoML_Training/data.csv\"\n",
    "# To access the complete path of the dataset\n",
    "\n",
    "dataset_full_id = client.dataset_path(project_id, \"us-central1\", dataset_id)\n",
    "    \n",
    "# Access multiple inputs from the Google Cloud Storage\n",
    "input_data = path.split(\",\")\n",
    "gcs_source = automl.GcsSource(input_uris=input_data)\n",
    "input_config = automl.InputConfig(gcs_source=gcs_source)\n",
    "    \n",
    "# To import the data from the GCS storage\n",
    "response = client.import_data(name=dataset_full_id, input_config=input_config)\n",
    "\n",
    "print(\"Processing import...\")\n",
    "#print(\"Data imported. {}\".format(response.result()))\n",
    "#print(response.result())\n",
    "print(response.result())\n",
    "    "
   ]
  },
  {
   "cell_type": "code",
   "execution_count": 6,
   "id": "673f1271-deae-431e-b221-3d216b2c799b",
   "metadata": {},
   "outputs": [
    {
     "name": "stdout",
     "output_type": "stream",
     "text": [
      "Training operation name: projects/289649376723/locations/us-central1/operations/ICN5862735912156266496\n",
      "Training started...\n"
     ]
    }
   ],
   "source": [
    "# To train the model \n",
    "metadata = automl.ImageClassificationModelMetadata(\n",
    "    train_budget_milli_node_hours=24000)\n",
    "\n",
    "model = automl.Model(display_name = display_name, \n",
    "                    dataset_id = dataset_id,\n",
    "                    image_classification_model_metadata = metadata,)\n",
    "\n",
    "# To create a model with model metadata in the region\n",
    "response = client.create_model(parent = project_location, model = model)\n",
    "\n",
    "print(\"Training operation name: {}\".format(response.operation.name))\n",
    "print(\"Training started...\")"
   ]
  },
  {
   "cell_type": "code",
   "execution_count": 7,
   "id": "d1d2edff-0a67-4b64-869c-fc8afdca6894",
   "metadata": {},
   "outputs": [
    {
     "name": "stdout",
     "output_type": "stream",
     "text": [
      "<class 'google.api_core.operation.Operation'>\n"
     ]
    }
   ],
   "source": [
    "print(type(response))"
   ]
  },
  {
   "cell_type": "code",
   "execution_count": 15,
   "id": "b2c2e0ca-dea9-42a5-958c-8a2ad7a930f7",
   "metadata": {},
   "outputs": [],
   "source": [
    "request = automl.ListModelsRequest(parent=project_location, filter=\"\")\n",
    "response1 = client.list_models(request=request)"
   ]
  },
  {
   "cell_type": "code",
   "execution_count": 16,
   "id": "bd23f5a5-8f9c-407a-a78c-fbff81b63b23",
   "metadata": {},
   "outputs": [
    {
     "name": "stdout",
     "output_type": "stream",
     "text": [
      "Model name: projects/289649376723/locations/us-central1/models/ICN7031365864511242240\n",
      "Model id: ICN7031365864511242240\n",
      "Model display name: usecase3\n",
      "Model create time: 2021-12-28 07:02:54.384263+00:00\n",
      "Model deployment state: undeployed\n",
      "Model name: projects/289649376723/locations/us-central1/models/ICN211016072579514368\n",
      "Model id: ICN211016072579514368\n",
      "Model display name: usecase3\n",
      "Model create time: 2021-12-21 00:27:26.837452+00:00\n",
      "Model deployment state: deployed\n",
      "Model name: projects/289649376723/locations/us-central1/models/ICN6699225391992668160\n",
      "Model id: ICN6699225391992668160\n",
      "Model display name: usecase3\n",
      "Model create time: 2021-12-27 13:33:51.419619+00:00\n",
      "Model deployment state: undeployed\n",
      "Model name: projects/289649376723/locations/us-central1/models/ICN3126393143860133888\n",
      "Model id: ICN3126393143860133888\n",
      "Model display name: Mnist_20211213035622\n",
      "Model create time: 2021-12-13 10:28:18.570378+00:00\n",
      "Model deployment state: deployed\n"
     ]
    }
   ],
   "source": [
    "# To list the model \n",
    "for model in response1:\n",
    "    # Display the model information.\n",
    "    if model.deployment_state == automl.Model.DeploymentState.DEPLOYED:\n",
    "        deployment_state = \"deployed\"\n",
    "    else:\n",
    "        deployment_state = \"undeployed\"\n",
    "\n",
    "    print(\"Model name: {}\".format(model.name))\n",
    "    print(\"Model id: {}\".format(model.name.split(\"/\")[-1]))\n",
    "    print(\"Model display name: {}\".format(model.display_name))\n",
    "    print(\"Model create time: {}\".format(model.create_time))\n",
    "    print(\"Model deployment state: {}\".format(deployment_state))"
   ]
  },
  {
   "cell_type": "code",
   "execution_count": 17,
   "id": "dab1323d-8118-4a8b-98a3-a95820db5c71",
   "metadata": {},
   "outputs": [
    {
     "data": {
      "text/plain": [
       "'ICN7031365864511242240'"
      ]
     },
     "execution_count": 17,
     "metadata": {},
     "output_type": "execute_result"
    }
   ],
   "source": [
    "response1.model[0].name.split(\"/\")[-1]"
   ]
  },
  {
   "cell_type": "code",
   "execution_count": 19,
   "id": "c049543a-01a0-4092-9e87-f2b3f8b3ea5f",
   "metadata": {},
   "outputs": [
    {
     "name": "stdout",
     "output_type": "stream",
     "text": [
      "List of model evaluations:\n"
     ]
    }
   ],
   "source": [
    "# To Evaluate the model\n",
    "#client = automl.AutoMLClient()\n",
    "#model_id = response1.model[0].name.split(\"/\")[-1]\n",
    "model_id = \"ICN6699225391992668160\"\n",
    "model_full_id = client.model_path(project_id, \"us-central1\", model_id)\n",
    "print(\"List of model evaluations:\")\n",
    "#for evaluation in client.list_model_evaluations(parent=model_full_id, filter=\"\"):\n",
    "##    print(\"Model evaluation name: {}\".format(evaluation.name))\n",
    "#    print(\"Model annotation spec id: {}\".format(evaluation.annotation_spec_id))\n",
    "#    print(\"Create Time: {}\".format(evaluation.create_time))\n",
    "#    print(\"Evaluation example count: {}\".format(evaluation.evaluated_example_count))\n",
    "#    print(\"Classification model evaluation metrics: {}\".format(evaluation.classification_evaluation_metrics))"
   ]
  },
  {
   "cell_type": "code",
   "execution_count": 20,
   "id": "d04a26b4-cfd0-42c4-9780-c2cc7e08515b",
   "metadata": {},
   "outputs": [
    {
     "name": "stdout",
     "output_type": "stream",
     "text": [
      "projects/gebu-data-ml-day0-01-333910/locations/us-central1/models/ICN6699225391992668160\n"
     ]
    }
   ],
   "source": [
    "print(model_full_id)"
   ]
  },
  {
   "cell_type": "code",
   "execution_count": 21,
   "id": "fe44e3c9-e0dd-47b6-98c0-88abb76d0756",
   "metadata": {},
   "outputs": [],
   "source": [
    "# Deployment\n",
    "request2 = automl.DeployModelRequest(name = model_id)\n",
    "response2 = client.deploy_model(name = model_full_id)"
   ]
  },
  {
   "cell_type": "code",
   "execution_count": 22,
   "id": "7558f815-66a2-466e-a29c-8423666932ff",
   "metadata": {},
   "outputs": [
    {
     "name": "stdout",
     "output_type": "stream",
     "text": [
      "name: \"ICN6699225391992668160\"\n",
      "\n"
     ]
    }
   ],
   "source": [
    "print(request2)"
   ]
  },
  {
   "cell_type": "code",
   "execution_count": null,
   "id": "eb5e52e0-5163-415f-aa3e-8a81042ada38",
   "metadata": {},
   "outputs": [],
   "source": [
    "#Prediction-------"
   ]
  },
  {
   "cell_type": "code",
   "execution_count": null,
   "id": "d836acf2-56f7-49e0-9307-dbaa92aa8768",
   "metadata": {},
   "outputs": [],
   "source": [
    "# project_id = \"YOUR_PROJECT_ID\"\n",
    "# model_id = \"YOUR_MODEL_ID\"\n",
    "# file_path = \"path_to_local_file.jpg\"\n",
    "\n",
    "file_path = \"img_35.jpg\"\n",
    "\n",
    "prediction_client = automl.PredictionServiceClient()\n",
    "\n",
    "# Get the full path of the model.\n",
    "model_full_id = automl.AutoMlClient.model_path(project_id, \"us-central1\", model_id)\n",
    "\n",
    "# Read the file.\n",
    "with open(file_path, \"rb\") as content_file:\n",
    "    content = content_file.read()\n",
    "\n",
    "image = automl.Image(image_bytes=content)\n",
    "payload = automl.ExamplePayload(image=image)\n",
    "\n",
    "# params is additional domain-specific parameters.\n",
    "# score_threshold is used to filter the result\n",
    "params = {\"score_threshold\": \"0.8\"}\n",
    "\n",
    "request = automl.PredictRequest(name=model_full_id, payload=payload, params=params)\n",
    "response = prediction_client.predict(request=request)\n",
    "\n",
    "print(\"Prediction results:\")\n",
    "for result in response.payload:\n",
    "    print(\"Predicted class name: {}\".format(result.display_name))\n",
    "    print(\"Predicted class score: {}\".format(result.classification.score))\n"
   ]
  },
  {
   "cell_type": "code",
   "execution_count": 13,
   "id": "78cc2541-bee3-4c8e-8f5f-e3f698c1f3c0",
   "metadata": {},
   "outputs": [],
   "source": [
    "#import joblib"
   ]
  },
  {
   "cell_type": "code",
   "execution_count": 18,
   "id": "cd4e1e27-a13c-469d-bf93-f767af2eacdd",
   "metadata": {},
   "outputs": [
    {
     "data": {
      "text/plain": [
       "['usecase3model.pkl']"
      ]
     },
     "execution_count": 18,
     "metadata": {},
     "output_type": "execute_result"
    }
   ],
   "source": [
    "#joblib.dump(response1.model[0].name.split(\"/\")[-1] , 'usecase3model.pkl')"
   ]
  },
  {
   "cell_type": "code",
   "execution_count": 23,
   "id": "ba6c23bd-b63e-4517-8d45-6440a98393a0",
   "metadata": {},
   "outputs": [
    {
     "name": "stdout",
     "output_type": "stream",
     "text": [
      "The google.cloud.bigquery extension is already loaded. To reload it, use:\n",
      "  %reload_ext google.cloud.bigquery\n"
     ]
    }
   ],
   "source": [
    "#%load_ext google.cloud.bigquery"
   ]
  },
  {
   "cell_type": "code",
   "execution_count": 24,
   "id": "5a3ed341-ff5d-4d8f-8778-48338c46b895",
   "metadata": {},
   "outputs": [],
   "source": [
    "#%reload_ext google.cloud.bigquery"
   ]
  },
  {
   "cell_type": "code",
   "execution_count": 25,
   "id": "507ad07e-3ea3-4f6b-a62b-826c22b180b2",
   "metadata": {},
   "outputs": [],
   "source": [
    "#from google.cloud import bigquery\n",
    "\n",
    "#client = bigquery.Client()"
   ]
  },
  {
   "cell_type": "code",
   "execution_count": 5,
   "id": "859374f7-6b0b-4640-b84b-b3fba4430ef2",
   "metadata": {},
   "outputs": [
    {
     "name": "stdout",
     "output_type": "stream",
     "text": [
      "gs://validation/cat.19.jpg https://storage.cloud.google.com/ml_usecase_3/validation/cat.19.jpg?authuser=7\n",
      "gs://validation/cat.20.jpg https://storage.cloud.google.com/ml_usecase_3/validation/cat.20.jpg?authuser=7\n",
      "gs://validation/cat.21.jpg https://storage.cloud.google.com/ml_usecase_3/validation/cat.21.jpg?authuser=7\n",
      "gs://validation/cat.22.jpg https://storage.cloud.google.com/ml_usecase_3/validation/cat.22.jpg?authuser=7\n",
      "gs://validation/cat.23.jpg https://storage.cloud.google.com/ml_usecase_3/validation/cat.23.jpg?authuser=7\n",
      "gs://validation/cat.24.jpg https://storage.cloud.google.com/ml_usecase_3/validation/cat.24.jpg?authuser=7\n",
      "gs://validation/cat.25.jpg https://storage.cloud.google.com/ml_usecase_3/validation/cat.25.jpg?authuser=7\n",
      "gs://validation/cat.26.jpg https://storage.cloud.google.com/ml_usecase_3/validation/cat.26.jpg?authuser=7\n",
      "gs://validation/cat.27.jpg https://storage.cloud.google.com/ml_usecase_3/validation/cat.27.jpg?authuser=7\n",
      "gs://validation/cat.28.jpg https://storage.cloud.google.com/ml_usecase_3/validation/cat.28.jpg?authuser=7\n",
      "gs://validation/cat.29.jpg https://storage.cloud.google.com/ml_usecase_3/validation/cat.29.jpg?authuser=7\n",
      "gs://validation/cat.30.jpg https://storage.cloud.google.com/ml_usecase_3/validation/cat.30.jpg?authuser=7\n",
      "gs://validation/cat.31.jpg https://storage.cloud.google.com/ml_usecase_3/validation/cat.31.jpg?authuser=7\n",
      "gs://validation/cat.32.jpg https://storage.cloud.google.com/ml_usecase_3/validation/cat.32.jpg?authuser=7\n",
      "gs://validation/cat.33.jpg https://storage.cloud.google.com/ml_usecase_3/validation/cat.33.jpg?authuser=7\n",
      "gs://validation/cat.34.jpg https://storage.cloud.google.com/ml_usecase_3/validation/cat.34.jpg?authuser=7\n",
      "gs://validation/cat.35.jpg https://storage.cloud.google.com/ml_usecase_3/validation/cat.35.jpg?authuser=7\n",
      "gs://validation/dog.12487.jpg https://storage.cloud.google.com/ml_usecase_3/validation/dog.12487.jpg?authuser=7\n",
      "gs://validation/dog.12488.jpg https://storage.cloud.google.com/ml_usecase_3/validation/dog.12488.jpg?authuser=7\n",
      "gs://validation/dog.12489.jpg https://storage.cloud.google.com/ml_usecase_3/validation/dog.12489.jpg?authuser=7\n",
      "gs://validation/dog.12490.jpg https://storage.cloud.google.com/ml_usecase_3/validation/dog.12490.jpg?authuser=7\n",
      "gs://validation/dog.12491.jpg https://storage.cloud.google.com/ml_usecase_3/validation/dog.12491.jpg?authuser=7\n",
      "gs://validation/dog.12492.jpg https://storage.cloud.google.com/ml_usecase_3/validation/dog.12492.jpg?authuser=7\n",
      "gs://validation/dog.12493.jpg https://storage.cloud.google.com/ml_usecase_3/validation/dog.12493.jpg?authuser=7\n",
      "gs://validation/dog.12494.jpg https://storage.cloud.google.com/ml_usecase_3/validation/dog.12494.jpg?authuser=7\n",
      "gs://validation/dog.12495.jpg https://storage.cloud.google.com/ml_usecase_3/validation/dog.12495.jpg?authuser=7\n",
      "gs://validation/dog.12496.jpg https://storage.cloud.google.com/ml_usecase_3/validation/dog.12496.jpg?authuser=7\n",
      "gs://validation/dog.12497.jpg https://storage.cloud.google.com/ml_usecase_3/validation/dog.12497.jpg?authuser=7\n",
      "gs://validation/dog.12498.jpg https://storage.cloud.google.com/ml_usecase_3/validation/dog.12498.jpg?authuser=7\n",
      "gs://validation/dog.12499.jpg https://storage.cloud.google.com/ml_usecase_3/validation/dog.12499.jpg?authuser=7\n"
     ]
    }
   ],
   "source": [
    "from google.cloud import storage\n",
    "\n",
    "client = storage.Client(\"gebu-data-ml-day0-01-333910\")\n",
    "uri_data = \"https://storage.cloud.google.com/ml_usecase_3/{}?authuser=7\"\n",
    "for blob in client.list_blobs('ml_usecase_3', prefix='validation'):\n",
    "    if str(blob.name) != \"validation/\":\n",
    "        file_name = \"gs://\" + str(blob.name)\n",
    "        url_data = uri_data.format(str(blob.name))\n",
    "        print(file_name,url_data)\n",
    "   "
   ]
  },
  {
   "cell_type": "code",
   "execution_count": null,
   "id": "34ce65c3-57fb-4229-8656-cc16d2be54c2",
   "metadata": {},
   "outputs": [],
   "source": []
  }
 ],
 "metadata": {
  "kernelspec": {
   "display_name": "Python 3 (ipykernel)",
   "language": "python",
   "name": "python3"
  },
  "language_info": {
   "codemirror_mode": {
    "name": "ipython",
    "version": 3
   },
   "file_extension": ".py",
   "mimetype": "text/x-python",
   "name": "python",
   "nbconvert_exporter": "python",
   "pygments_lexer": "ipython3",
   "version": "3.7.12"
  }
 },
 "nbformat": 4,
 "nbformat_minor": 5
}
